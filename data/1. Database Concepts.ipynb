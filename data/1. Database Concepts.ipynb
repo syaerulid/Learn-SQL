{
 "cells": [
  {
   "cell_type": "markdown",
   "id": "c4084db2",
   "metadata": {},
   "source": [
    "- In-Order to Understand SQL, we have first understand different Database Concepts like :\n",
    "   - Database\n",
    "   - DBMS\n",
    "   - Data Models\n",
    "   - RDBS\n",
    "   - SQL etc."
   ]
  },
  {
   "cell_type": "markdown",
   "id": "99083d31",
   "metadata": {},
   "source": [
    "**Database** : The Place where the Applications can store and read the data from"
   ]
  },
  {
   "cell_type": "markdown",
   "id": "bda6ea7e",
   "metadata": {},
   "source": [
    "- Database Concepts:\n",
    "    - Databases\n",
    "        - The place we can store the related data and later retrieve the data is known as Database\n",
    "            - Storing the related Data like Employee ID, Employee Name, Employee Salary, Department etc can be stored\n",
    "            - Retrieving the data based on some conditions"
   ]
  },
  {
   "cell_type": "markdown",
   "id": "a3218e5e",
   "metadata": {},
   "source": [
    "**DBMS** : A Software which facilitates the storing and retrival operations on the database"
   ]
  },
  {
   "cell_type": "markdown",
   "id": "e988532e",
   "metadata": {},
   "source": [
    "- Database Management Systems\n",
    "    - Shortly Called as DBMS\n",
    "    - Software that stpres data in databases in an organized way to make it easier to create, retrieve, update etc.\n",
    "    - Examples : DBase, FoxPro, MySQL, Oracle, MangoDB, MariaDB, SQLite, Cassandra and Many More"
   ]
  },
  {
   "cell_type": "markdown",
   "id": "cc0b79d0",
   "metadata": {},
   "source": [
    "**Data Models**\n",
    "- Defines how related data is connected to each other and stored inside the datanase\n",
    "- Types of Data Models:\n",
    "    - Hierarchical Model\n",
    "    - Network Model\n",
    "    - Entity-Relationship Model\n",
    "    - Relational Model\n",
    "        - Data is stored in the form of tables\n",
    "        - Tables Organize the data in the form of rows and columns\n",
    "        - It is a popular and widely used by most of the DBMS Software"
   ]
  },
  {
   "cell_type": "markdown",
   "id": "51d6180b",
   "metadata": {},
   "source": [
    "**Relational Model is the most used Data Model for storing the Data into the Databases by different DBMS Software Available in the Market**"
   ]
  },
  {
   "cell_type": "markdown",
   "id": "01435498",
   "metadata": {},
   "source": [
    "- RDBMS\n",
    "    - DBMS using Relational Data Models are known as RDBMS\n",
    "    - Examples for RDBMS Software:\n",
    "        1. Oracle\n",
    "        2. MS-SQL Server\n",
    "        3. DB2\n",
    "        4. MySQL\n",
    "        5. MS-ACESSS\n",
    "        6. etc."
   ]
  },
  {
   "cell_type": "markdown",
   "id": "c226418f",
   "metadata": {},
   "source": [
    "- SQL\n",
    "    - Programming language for Relational Databases\n",
    "    - Stands for Structured Query Language\n",
    "    - The following things can be performed on Database using SQL :\n",
    "        - Inserting Data\n",
    "        - Retrieving Data\n",
    "        - Updating Data\n",
    "        - Deleting Data\n",
    "        - and many more"
   ]
  },
  {
   "cell_type": "code",
   "execution_count": null,
   "id": "6b1b31a1",
   "metadata": {},
   "outputs": [],
   "source": []
  }
 ],
 "metadata": {
  "kernelspec": {
   "display_name": "Python 3 (ipykernel)",
   "language": "python",
   "name": "python3"
  },
  "language_info": {
   "codemirror_mode": {
    "name": "ipython",
    "version": 3
   },
   "file_extension": ".py",
   "mimetype": "text/x-python",
   "name": "python",
   "nbconvert_exporter": "python",
   "pygments_lexer": "ipython3",
   "version": "3.9.12"
  }
 },
 "nbformat": 4,
 "nbformat_minor": 5
}
