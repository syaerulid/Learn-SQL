{
 "cells": [
  {
   "cell_type": "markdown",
   "id": "6b90f0e2",
   "metadata": {},
   "source": [
    "# Training SQL without Installing DBMS\n",
    "with W3Schools website : https://www.w3schools.com/sql/trysql.asp?filename=trysql_asc"
   ]
  },
  {
   "cell_type": "code",
   "execution_count": 1,
   "id": "4fe20306",
   "metadata": {},
   "outputs": [],
   "source": [
    "#Just Delete # because github can't display Raw Data"
   ]
  },
  {
   "cell_type": "markdown",
   "id": "64a468fa",
   "metadata": {},
   "source": [
    "# SELECT"
   ]
  },
  {
   "cell_type": "code",
   "execution_count": 2,
   "id": "af1c2d51",
   "metadata": {},
   "outputs": [],
   "source": [
    "#SELECT\n",
    "    #- One of the commands in SQL\n",
    "    #- To retrieve the data from the given tables\n",
    "    \n",
    "#Syntax :\n",
    "    #SELECT * FROM TableName;"
   ]
  },
  {
   "cell_type": "code",
   "execution_count": 3,
   "id": "f1bcd76f",
   "metadata": {},
   "outputs": [],
   "source": [
    "#SELECT * \n",
    "#FROM Customers;"
   ]
  },
  {
   "cell_type": "code",
   "execution_count": 4,
   "id": "17ceebad",
   "metadata": {},
   "outputs": [],
   "source": [
    "#- * means all of the data, so they will display all data from the tables"
   ]
  },
  {
   "cell_type": "code",
   "execution_count": 5,
   "id": "6e9acc75",
   "metadata": {},
   "outputs": [],
   "source": [
    "#SELECT CustomerName, Country, City, PostalCode\n",
    "#FROM Customers;"
   ]
  },
  {
   "cell_type": "markdown",
   "id": "32407a8c",
   "metadata": {},
   "source": [
    "# DISTINCT"
   ]
  },
  {
   "cell_type": "markdown",
   "id": "4c497d54",
   "metadata": {},
   "source": [
    " - Distinct + Select : Retrieve the unique values for the specified columns"
   ]
  },
  {
   "cell_type": "markdown",
   "id": "9301de46",
   "metadata": {},
   "source": [
    "1. Without Distinct"
   ]
  },
  {
   "cell_type": "code",
   "execution_count": 6,
   "id": "2c992d2c",
   "metadata": {},
   "outputs": [],
   "source": [
    "#SELECT COUNTRY\n",
    "#FROM Customers;"
   ]
  },
  {
   "cell_type": "markdown",
   "id": "08977868",
   "metadata": {},
   "source": [
    "2. With Distinct"
   ]
  },
  {
   "cell_type": "code",
   "execution_count": 7,
   "id": "2bc165ea",
   "metadata": {},
   "outputs": [],
   "source": [
    "#SELECT DISTINCT Country\n",
    "#FROM Customers;"
   ]
  },
  {
   "cell_type": "code",
   "execution_count": 8,
   "id": "fab2b6c0",
   "metadata": {},
   "outputs": [],
   "source": [
    "#SELECT DISTINCT Country, PostalCode\n",
    "#FROM Customers;\n",
    "\n",
    "# Combination of Country and PostalCode should be unique"
   ]
  },
  {
   "cell_type": "markdown",
   "id": "822c2360",
   "metadata": {},
   "source": [
    "# SQL is NOT SENSITIVE"
   ]
  },
  {
   "cell_type": "code",
   "execution_count": 9,
   "id": "c43decfb",
   "metadata": {},
   "outputs": [],
   "source": [
    "#All the below statements will work same irrespective of their case\n",
    "#1.\n",
    "#SELECT CustomerName, PostalCode\n",
    "#FROM Customers;\n",
    "\n",
    "#2. \n",
    "#select customername, postalcode\n",
    "#from customers;\n",
    "\n",
    "#3. \n",
    "#SELECT CUSTOMERNAME, POSTALCODE\n",
    "#FROM CUSTOMERS;\n",
    "\n",
    "#All of this 3 produce same result"
   ]
  },
  {
   "cell_type": "markdown",
   "id": "ca17ce55",
   "metadata": {},
   "source": [
    "# Semicolon (;) why its Important?"
   ]
  },
  {
   "cell_type": "code",
   "execution_count": 10,
   "id": "4bc91cae",
   "metadata": {},
   "outputs": [],
   "source": [
    "#SELECT *\n",
    "#FROM Customers; << Semicolon\n",
    "\n",
    "#Is it mandatory to end the SQL Statements with semicolon symbol?\n",
    " #- For SOME RDBMS Apps its mandatory"
   ]
  },
  {
   "cell_type": "markdown",
   "id": "40888c32",
   "metadata": {},
   "source": [
    "- Best Practice\n",
    "- Easier to translate between SQL Flavors\n",
    "- Indicates the end of a query"
   ]
  },
  {
   "cell_type": "code",
   "execution_count": 11,
   "id": "25f69d6d",
   "metadata": {},
   "outputs": [],
   "source": [
    "#SELECT *\n",
    "#FROM Customers;\n",
    "\n",
    "#SELECT PostalCode\n",
    "#FROM Customers;\n",
    "\n",
    "#This statement is double run, because semicolon separate them, in SOME RDBMS without semicolon the Query will be Error"
   ]
  },
  {
   "cell_type": "markdown",
   "id": "94fc71c5",
   "metadata": {},
   "source": [
    "# WHERE CLAUSE"
   ]
  },
  {
   "cell_type": "markdown",
   "id": "98dfc0d2",
   "metadata": {},
   "source": [
    "1. Purpose is to filter records based on some condition\n",
    "2. Practice and Example WHERE CLAUSE:"
   ]
  },
  {
   "cell_type": "code",
   "execution_count": 12,
   "id": "4a6d2293",
   "metadata": {},
   "outputs": [],
   "source": [
    "#SELECT * \n",
    "#FROM Customers\n",
    "#WHERE City = 'London';"
   ]
  },
  {
   "cell_type": "code",
   "execution_count": 13,
   "id": "e753831b",
   "metadata": {},
   "outputs": [],
   "source": [
    "#SELECT *\n",
    "#FROM CUSTOMERS\n",
    "#WHERE CustomerID = 9;"
   ]
  },
  {
   "cell_type": "code",
   "execution_count": 14,
   "id": "b01f1ca7",
   "metadata": {},
   "outputs": [],
   "source": [
    "#Select CustomerName, Country, City\n",
    "#FROM Customers\n",
    "#WHERE City = 'London';"
   ]
  },
  {
   "cell_type": "code",
   "execution_count": 15,
   "id": "f7e8f13c",
   "metadata": {},
   "outputs": [],
   "source": [
    "#Select CustomerName, Country, City\n",
    "#FROM Customers\n",
    "#WHERE PostalCode = 05021;"
   ]
  },
  {
   "cell_type": "markdown",
   "id": "b3b8854c",
   "metadata": {},
   "source": [
    "# Using Relational Operators in Where Clause Condition"
   ]
  },
  {
   "cell_type": "markdown",
   "id": "03c382de",
   "metadata": {},
   "source": [
    "Relational Operators \n",
    "\n",
    "- Equal Operator (=)\n",
    "- Greater Than Operator (>)\n",
    "- Less Than Operator (<)\n",
    "- Greater Than or Equal to Operator (>=)\n",
    "- Less Than or Equal to Operator (<=)\n",
    "- Not Equal Operator(<>)"
   ]
  },
  {
   "cell_type": "markdown",
   "id": "e56ee36c",
   "metadata": {},
   "source": [
    "## Equal"
   ]
  },
  {
   "cell_type": "code",
   "execution_count": 16,
   "id": "37d665e3",
   "metadata": {},
   "outputs": [],
   "source": [
    "#SELECT *\n",
    "#FROM Customers\n",
    "#WHERE CustomerID=1;"
   ]
  },
  {
   "cell_type": "markdown",
   "id": "e5ec0e35",
   "metadata": {},
   "source": [
    "## Greater Than"
   ]
  },
  {
   "cell_type": "code",
   "execution_count": 17,
   "id": "81376045",
   "metadata": {},
   "outputs": [],
   "source": [
    "#SELECT * \n",
    "#FROM Products\n",
    "#WHERE Price > 40;"
   ]
  },
  {
   "cell_type": "markdown",
   "id": "a72b6756",
   "metadata": {},
   "source": [
    "## Less Than"
   ]
  },
  {
   "cell_type": "code",
   "execution_count": 18,
   "id": "05f38537",
   "metadata": {},
   "outputs": [],
   "source": [
    "#SELECT * \n",
    "#FROM Products \n",
    "#WHERE Price < 30;"
   ]
  },
  {
   "cell_type": "markdown",
   "id": "12865302",
   "metadata": {},
   "source": [
    "## Greater Than or Equal"
   ]
  },
  {
   "cell_type": "code",
   "execution_count": 19,
   "id": "e136d1a3",
   "metadata": {},
   "outputs": [],
   "source": [
    "#SELECT *\n",
    "#FROM Products\n",
    "#Where Price >= 10;"
   ]
  },
  {
   "cell_type": "markdown",
   "id": "d2056f4c",
   "metadata": {},
   "source": [
    "## Less Than or Equal"
   ]
  },
  {
   "cell_type": "code",
   "execution_count": 20,
   "id": "f6503121",
   "metadata": {},
   "outputs": [],
   "source": [
    "#SELECT *\n",
    "#FROM Products\n",
    "#Where Price <= 20;"
   ]
  },
  {
   "cell_type": "markdown",
   "id": "3f3740f0",
   "metadata": {},
   "source": [
    "## Not Equal"
   ]
  },
  {
   "cell_type": "code",
   "execution_count": 21,
   "id": "229903a5",
   "metadata": {},
   "outputs": [],
   "source": [
    "#SELECT * \n",
    "#FROM Products \n",
    "#WHERE Price <> 19;"
   ]
  },
  {
   "cell_type": "markdown",
   "id": "5038168b",
   "metadata": {},
   "source": [
    "# Between Operator"
   ]
  },
  {
   "cell_type": "markdown",
   "id": "ca79c885",
   "metadata": {},
   "source": [
    "   - Purpose : To filter the records in the `specified range`"
   ]
  },
  {
   "cell_type": "code",
   "execution_count": 22,
   "id": "519a029b",
   "metadata": {},
   "outputs": [],
   "source": [
    "#Example Between 50 to 60\n",
    "#50,51,52,....., 60"
   ]
  },
  {
   "cell_type": "code",
   "execution_count": 23,
   "id": "01ca417c",
   "metadata": {},
   "outputs": [],
   "source": [
    "#SELECT * \n",
    "#FROM Products\n",
    "#WHERE Price \n",
    "#BETWEEN 10 and 20;"
   ]
  },
  {
   "cell_type": "code",
   "execution_count": 24,
   "id": "1fbd86e5",
   "metadata": {},
   "outputs": [],
   "source": [
    "#SELECT * \n",
    "#FROM Products\n",
    "#WHERE PRICE >=10 \n",
    "#AND PRICE <=20;"
   ]
  },
  {
   "cell_type": "markdown",
   "id": "1fbad63e",
   "metadata": {},
   "source": [
    "## Reverse (Not Between)"
   ]
  },
  {
   "cell_type": "code",
   "execution_count": 25,
   "id": "2b3a9afa",
   "metadata": {},
   "outputs": [],
   "source": [
    "#SELECT * \n",
    "#FROM Products\n",
    "#WHERE PRICE\n",
    "#NOT BETWEEN 10 and 20;\n",
    "\n",
    "#Price\n",
    "# should be less than 10\n",
    "# should be more than 20\n",
    "\n",
    "#SELECT *\n",
    "#FROM Products\n",
    "#WHERE PRICE < 10\n",
    "#OR PRICE > 20;"
   ]
  },
  {
   "cell_type": "code",
   "execution_count": 26,
   "id": "2705be5c",
   "metadata": {},
   "outputs": [],
   "source": [
    "## Those two produce same result"
   ]
  },
  {
   "cell_type": "code",
   "execution_count": null,
   "id": "2375eeac",
   "metadata": {},
   "outputs": [],
   "source": []
  }
 ],
 "metadata": {
  "kernelspec": {
   "display_name": "Python 3 (ipykernel)",
   "language": "python",
   "name": "python3"
  },
  "language_info": {
   "codemirror_mode": {
    "name": "ipython",
    "version": 3
   },
   "file_extension": ".py",
   "mimetype": "text/x-python",
   "name": "python",
   "nbconvert_exporter": "python",
   "pygments_lexer": "ipython3",
   "version": "3.9.12"
  }
 },
 "nbformat": 4,
 "nbformat_minor": 5
}
