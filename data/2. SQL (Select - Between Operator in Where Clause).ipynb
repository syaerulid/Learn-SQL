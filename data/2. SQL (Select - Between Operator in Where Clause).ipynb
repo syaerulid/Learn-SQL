{
 "cells": [
  {
   "cell_type": "markdown",
   "id": "507861d7",
   "metadata": {},
   "source": [
    "# Training SQL without Installing DBMS\n",
    "with W3Schools website : https://www.w3schools.com/sql/trysql.asp?filename=trysql_asc"
   ]
  },
  {
   "cell_type": "markdown",
   "id": "2b2c74d1",
   "metadata": {},
   "source": [
    "# SELECT"
   ]
  },
  {
   "cell_type": "raw",
   "id": "ff0ff44b",
   "metadata": {},
   "source": [
    "SELECT\n",
    "    - One of the commands in SQL\n",
    "    - To retrieve the data from the given tables\n",
    "    \n",
    "Syntax :\n",
    "    SELECT * FROM TableName;"
   ]
  },
  {
   "cell_type": "raw",
   "id": "90a51a5a",
   "metadata": {},
   "source": [
    "SELECT * \n",
    "FROM Customers;"
   ]
  },
  {
   "cell_type": "raw",
   "id": "c6a2e431",
   "metadata": {},
   "source": [
    "- * means all of the data, so they will display all data from the tables"
   ]
  },
  {
   "cell_type": "raw",
   "id": "d395d6b6",
   "metadata": {},
   "source": [
    "SELECT CustomerName, Country, City, PostalCode\n",
    "FROM Customers;"
   ]
  },
  {
   "cell_type": "markdown",
   "id": "503e015b",
   "metadata": {},
   "source": [
    "# DISTINCT"
   ]
  },
  {
   "cell_type": "markdown",
   "id": "8eafcf73",
   "metadata": {},
   "source": [
    " - Distinct + Select : Retrieve the unique values for the specified columns"
   ]
  },
  {
   "cell_type": "markdown",
   "id": "ba5fd1b8",
   "metadata": {},
   "source": [
    "1. Without Distinct"
   ]
  },
  {
   "cell_type": "raw",
   "id": "2a2724a6",
   "metadata": {},
   "source": [
    "SELECT COUNTRY\n",
    "FROM Customers;"
   ]
  },
  {
   "cell_type": "markdown",
   "id": "4b76207e",
   "metadata": {},
   "source": [
    "2. With Distinct"
   ]
  },
  {
   "cell_type": "raw",
   "id": "ec887918",
   "metadata": {},
   "source": [
    "SELECT DISTINCT Country\n",
    "FROM Customers;"
   ]
  },
  {
   "cell_type": "raw",
   "id": "00a3365c",
   "metadata": {},
   "source": [
    "SELECT DISTINCT Country, PostalCode\n",
    "FROM Customers;\n",
    "\n",
    "# Combination of Country and PostalCode should be unique"
   ]
  },
  {
   "cell_type": "markdown",
   "id": "77efd17e",
   "metadata": {},
   "source": [
    "# SQL is NOT SENSITIVE"
   ]
  },
  {
   "cell_type": "raw",
   "id": "0fce0a87",
   "metadata": {},
   "source": [
    "All the below statements will work same irrespective of their case\n",
    "1.\n",
    "SELECT CustomerName, PostalCode\n",
    "FROM Customers;\n",
    "\n",
    "2. \n",
    "select customername, postalcode\n",
    "from customers;\n",
    "\n",
    "3. \n",
    "SELECT CUSTOMERNAME, POSTALCODE\n",
    "FROM CUSTOMERS;\n",
    "\n",
    "All of this 3 produce same result"
   ]
  },
  {
   "cell_type": "markdown",
   "id": "db2935ce",
   "metadata": {},
   "source": [
    "# Semicolon (;) why its Important?"
   ]
  },
  {
   "cell_type": "raw",
   "id": "f3444047",
   "metadata": {},
   "source": [
    "SELECT *\n",
    "FROM Customers; << Semicolon\n",
    "\n",
    "Is it mandatory to end the SQL Statements with semicolon symbol?\n",
    " - For SOME RDBMS Apps its mandatory"
   ]
  },
  {
   "cell_type": "markdown",
   "id": "ce6acda2",
   "metadata": {},
   "source": [
    "- Best Practice\n",
    "- Easier to translate between SQL Flavors\n",
    "- Indicates the end of a query"
   ]
  },
  {
   "cell_type": "raw",
   "id": "f11ee38f",
   "metadata": {},
   "source": [
    "SELECT *\n",
    "FROM Customers;\n",
    "\n",
    "SELECT PostalCode\n",
    "FROM Customers;\n",
    "\n",
    "This statement is double run, because semicolon separate them, in SOME RDBMS without semicolon the Query will be Error"
   ]
  },
  {
   "cell_type": "markdown",
   "id": "3cbed214",
   "metadata": {},
   "source": [
    "# WHERE CLAUSE"
   ]
  },
  {
   "cell_type": "markdown",
   "id": "f4c1115b",
   "metadata": {},
   "source": [
    "1. Purpose is to filter records based on some condition\n",
    "2. Practice and Example WHERE CLAUSE:"
   ]
  },
  {
   "cell_type": "raw",
   "id": "98f9eb45",
   "metadata": {},
   "source": [
    "SELECT * \n",
    "FROM Customers\n",
    "WHERE City = 'London';"
   ]
  },
  {
   "cell_type": "raw",
   "id": "d9f72504",
   "metadata": {},
   "source": [
    "SELECT *\n",
    "FROM CUSTOMERS\n",
    "WHERE CustomerID = 9;"
   ]
  },
  {
   "cell_type": "raw",
   "id": "23558398",
   "metadata": {},
   "source": [
    "Select CustomerName, Country, City\n",
    "FROM Customers\n",
    "WHERE City = 'London';"
   ]
  },
  {
   "cell_type": "raw",
   "id": "371cbafa",
   "metadata": {},
   "source": [
    "Select CustomerName, Country, City\n",
    "FROM Customers\n",
    "WHERE PostalCode = 05021;"
   ]
  },
  {
   "cell_type": "markdown",
   "id": "019220d4",
   "metadata": {},
   "source": [
    "# Using Relational Operators in Where Clause Condition"
   ]
  },
  {
   "cell_type": "markdown",
   "id": "23944120",
   "metadata": {},
   "source": [
    "Relational Operators \n",
    "\n",
    "- Equal Operator (=)\n",
    "- Greater Than Operator (>)\n",
    "- Less Than Operator (<)\n",
    "- Greater Than or Equal to Operator (>=)\n",
    "- Less Than or Equal to Operator (<=)\n",
    "- Not Equal Operator(<>)"
   ]
  },
  {
   "cell_type": "markdown",
   "id": "930be362",
   "metadata": {},
   "source": [
    "## Equal"
   ]
  },
  {
   "cell_type": "raw",
   "id": "dd7cba50",
   "metadata": {},
   "source": [
    "SELECT *\n",
    "FROM Customers\n",
    "WHERE CustomerID=1;"
   ]
  },
  {
   "cell_type": "markdown",
   "id": "529df533",
   "metadata": {},
   "source": [
    "## Greater Than"
   ]
  },
  {
   "cell_type": "raw",
   "id": "cd794646",
   "metadata": {},
   "source": [
    "SELECT * \n",
    "FROM Products\n",
    "WHERE Price > 40;"
   ]
  },
  {
   "cell_type": "markdown",
   "id": "ed88c53d",
   "metadata": {},
   "source": [
    "## Less Than"
   ]
  },
  {
   "cell_type": "raw",
   "id": "12b1da04",
   "metadata": {},
   "source": [
    "SELECT * \n",
    "FROM Products \n",
    "WHERE Price < 30;"
   ]
  },
  {
   "cell_type": "markdown",
   "id": "4ee8be1b",
   "metadata": {},
   "source": [
    "## Greater Than or Equal"
   ]
  },
  {
   "cell_type": "raw",
   "id": "3dfa60e6",
   "metadata": {},
   "source": [
    "SELECT *\n",
    "FROM Products\n",
    "Where Price >= 10;"
   ]
  },
  {
   "cell_type": "markdown",
   "id": "201c9ad7",
   "metadata": {},
   "source": [
    "## Less Than or Equal"
   ]
  },
  {
   "cell_type": "raw",
   "id": "f3bfdbda",
   "metadata": {},
   "source": [
    "SELECT *\n",
    "FROM Products\n",
    "Where Price <= 20;"
   ]
  },
  {
   "cell_type": "markdown",
   "id": "4cccfb1c",
   "metadata": {},
   "source": [
    "## Not Equal"
   ]
  },
  {
   "cell_type": "raw",
   "id": "31cdb8b3",
   "metadata": {},
   "source": [
    "SELECT * \n",
    "FROM Products \n",
    "WHERE Price <> 19;"
   ]
  },
  {
   "cell_type": "markdown",
   "id": "ef9499c8",
   "metadata": {},
   "source": [
    "# Between Operator"
   ]
  },
  {
   "cell_type": "markdown",
   "id": "202a7750",
   "metadata": {},
   "source": [
    "   - Purpose : To filter the records in the `specified range`"
   ]
  },
  {
   "cell_type": "raw",
   "id": "c1d24fcd",
   "metadata": {},
   "source": [
    "Example Between 50 to 60\n",
    "50,51,52,....., 60"
   ]
  },
  {
   "cell_type": "raw",
   "id": "96e1be57",
   "metadata": {},
   "source": [
    "SELECT * \n",
    "FROM Products\n",
    "WHERE Price \n",
    "BETWEEN 10 and 20;"
   ]
  },
  {
   "cell_type": "raw",
   "id": "61576367",
   "metadata": {},
   "source": [
    "SELECT * \n",
    "FROM Products\n",
    "WHERE PRICE >=10 \n",
    "AND PRICE <=20;"
   ]
  },
  {
   "cell_type": "markdown",
   "id": "c1b768e2",
   "metadata": {},
   "source": [
    "## Reverse (Not Between)"
   ]
  },
  {
   "cell_type": "raw",
   "id": "ab6ebfb9",
   "metadata": {},
   "source": [
    "SELECT * \n",
    "FROM Products\n",
    "WHERE PRICE\n",
    "NOT BETWEEN 10 and 20;\n",
    "\n",
    "Price\n",
    "# should be less than 10\n",
    "# should be more than 20\n",
    "\n",
    "SELECT *\n",
    "FROM Products\n",
    "WHERE PRICE < 10\n",
    "OR PRICE > 20;"
   ]
  },
  {
   "cell_type": "raw",
   "id": "d8d40a4c",
   "metadata": {},
   "source": [
    "Those two produce same result"
   ]
  },
  {
   "cell_type": "code",
   "execution_count": null,
   "id": "e3e66333",
   "metadata": {},
   "outputs": [],
   "source": []
  }
 ],
 "metadata": {
  "kernelspec": {
   "display_name": "Python 3 (ipykernel)",
   "language": "python",
   "name": "python3"
  },
  "language_info": {
   "codemirror_mode": {
    "name": "ipython",
    "version": 3
   },
   "file_extension": ".py",
   "mimetype": "text/x-python",
   "name": "python",
   "nbconvert_exporter": "python",
   "pygments_lexer": "ipython3",
   "version": "3.9.12"
  }
 },
 "nbformat": 4,
 "nbformat_minor": 5
}
